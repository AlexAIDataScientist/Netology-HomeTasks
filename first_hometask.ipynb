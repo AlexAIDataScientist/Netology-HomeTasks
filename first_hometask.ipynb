{
 "cells": [
  {
   "cell_type": "code",
   "execution_count": 1,
   "metadata": {},
   "outputs": [
    {
     "name": "stdout",
     "output_type": "stream",
     "text": [
      "Ввод первой строки: zbdgnb\n",
      "Ввод второй строки: dfv\n",
      "Первая строка длиннее второй\n"
     ]
    }
   ],
   "source": [
    "import numpy as np\n",
    "\n",
    "### task 1\n",
    "first_str = input('Ввод первой строки: ')\n",
    "second_str = input('Ввод второй строки: ')\n",
    "\n",
    "if len(first_str) > len(second_str):\n",
    "    print('Первая строка длиннее второй')\n",
    "elif len(first_str) < len(second_str):\n",
    "    print('Вторая строка длиннее первой')\n",
    "else:\n",
    "    print('Введены строки одинаковой длины')"
   ]
  },
  {
   "cell_type": "code",
   "execution_count": 2,
   "metadata": {},
   "outputs": [
    {
     "name": "stdout",
     "output_type": "stream",
     "text": [
      "Введите год для поверки на високосность: 3850\n",
      "our_year -  3850\n",
      "Год не является високосным\n"
     ]
    }
   ],
   "source": [
    "### task 2\n",
    "our_year = input('Введите год для поверки на високосность: ')\n",
    "\n",
    "if our_year.isdigit():\n",
    "    our_year = int(our_year)\n",
    "    print('our_year - ', our_year)\n",
    "    if our_year % 4 == 0:\n",
    "        if our_year % 100 == 0:\n",
    "            if our_year % 400 == 0:\n",
    "                print('Год високосный')\n",
    "            else:\n",
    "                print('Год не является високосным')\n",
    "        else:\n",
    "            print('Год високосный')\n",
    "    else:\n",
    "        print('Год не является високосным')"
   ]
  },
  {
   "cell_type": "code",
   "execution_count": 3,
   "metadata": {},
   "outputs": [
    {
     "name": "stdout",
     "output_type": "stream",
     "text": [
      "Введите месяц: октябрь\n",
      "Введите день: 17\n",
      "Ваш зодиакальный знак - Весы\n"
     ]
    }
   ],
   "source": [
    "### task 3\n",
    "str_month = input('Введите месяц: ')\n",
    "str_day = input('Введите день: ')\n",
    "\n",
    "# without checking types of arguments\n",
    "if str_month.strip() == 'январь':\n",
    "    if int(str_day) <= 19:\n",
    "        print('Ваш зодиакальный знак - Козерог')\n",
    "    else: print('Ваш зодиакальный знак - Водолей')\n",
    "elif str_month.strip() == 'февраль':\n",
    "    if int(str_day) <= 18:\n",
    "        print('Ваш зодиакальный знак - Водолей')\n",
    "    else: print('Ваш зодиакальный знак - Рыбы')\n",
    "elif str_month.strip() == 'март':\n",
    "    if int(str_day) <= 20:\n",
    "        print('Ваш зодиакальный знак - Рыбы')\n",
    "    else: print('Ваш зодиакальный знак - Овен')\n",
    "elif str_month.strip() == 'апрель':\n",
    "    if int(str_day) <= 19:\n",
    "        print('Ваш зодиакальный знак - Овен')\n",
    "    else: print('Ваш зодиакальный знак - Телец')\n",
    "elif str_month.strip() == 'май':\n",
    "    if int(str_day) <= 20:\n",
    "        print('Ваш зодиакальный знак - Телец')\n",
    "    else: print('Ваш зодиакальный знак - Близнецы')\n",
    "elif str_month.strip() == 'июнь':\n",
    "    if int(str_day) <= 20:\n",
    "        print('Ваш зодиакальный знак - Близнецы')\n",
    "    else: print('Ваш зодиакальный знак - Рак')\n",
    "elif str_month.strip() == 'июль':\n",
    "    if int(str_day) <= 22:\n",
    "        print('Ваш зодиакальный знак - Рак')\n",
    "    else: print('Ваш зодиакальный знак - Лев')\n",
    "elif str_month.strip() == 'август':\n",
    "    if int(str_day) <= 22:\n",
    "        print('Ваш зодиакальный знак - Лев')\n",
    "    else: print('Ваш зодиакальный знак - Дева')\n",
    "elif str_month.strip() == 'сентябрь':\n",
    "    if int(str_day) <= 22:\n",
    "        print('Ваш зодиакальный знак - Дева')\n",
    "    else: print('Ваш зодиакальный знак - Весы')\n",
    "elif str_month.strip() == 'октябрь':\n",
    "    if int(str_day) <= 22:\n",
    "        print('Ваш зодиакальный знак - Весы')\n",
    "    else: print('Ваш зодиакальный знак - Скорпион')\n",
    "elif str_month.strip() == 'ноябрь':\n",
    "    if int(str_day) <= 21:\n",
    "        print('Ваш зодиакальный знак - Скорпион')\n",
    "    else: print('Ваш зодиакальный знак - Стрелец')\n",
    "elif str_month.strip() == 'декабрь':\n",
    "    if int(str_day) <= 21:\n",
    "        print('Ваш зодиакальный знак - Стрелец')\n",
    "    else: print('Ваш зодиакальный знак - Козерог')"
   ]
  },
  {
   "cell_type": "code",
   "execution_count": 9,
   "metadata": {},
   "outputs": [
    {
     "name": "stdout",
     "output_type": "stream",
     "text": [
      "Enter width: 77\n",
      "Enter length: 65\n",
      "Enter heigh: 55\n",
      "Стандартная коробка №3\n"
     ]
    }
   ],
   "source": [
    "### task 4\n",
    "str_width = input('Enter width: ')\n",
    "str_length = input('Enter length: ')\n",
    "str_heigh = input('Enter heigh: ')\n",
    "\n",
    "width = int(str_width)\n",
    "length = int(str_length)\n",
    "heigh = int(str_heigh)\n",
    "\n",
    "const_1 = 15\n",
    "const_2 = 50\n",
    "const_3 = 200\n",
    "\n",
    "if width <= const_1 and length <= const_1 and heigh <= const_1:\n",
    "    print('Коробка №1')\n",
    "elif length > const_3:\n",
    "    print('Упаковка для лыж')\n",
    "elif (width > const_1 and width <= const_2) or \\\n",
    "(length > const_1 and length <= const_2) or \\\n",
    "(heigh > const_1 and heigh <= const_2):\n",
    "    print('Коробка №2')\n",
    "else:\n",
    "    print('Стандартная коробка №3')"
   ]
  },
  {
   "cell_type": "code",
   "execution_count": null,
   "metadata": {},
   "outputs": [],
   "source": []
  }
 ],
 "metadata": {
  "kernelspec": {
   "display_name": "Python 3",
   "language": "python",
   "name": "python3"
  },
  "language_info": {
   "codemirror_mode": {
    "name": "ipython",
    "version": 3
   },
   "file_extension": ".py",
   "mimetype": "text/x-python",
   "name": "python",
   "nbconvert_exporter": "python",
   "pygments_lexer": "ipython3",
   "version": "3.8.2"
  }
 },
 "nbformat": 4,
 "nbformat_minor": 4
}
